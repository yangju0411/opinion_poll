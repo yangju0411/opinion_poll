{
  "nbformat": 4,
  "nbformat_minor": 0,
  "metadata": {
    "colab": {
      "name": "nesdc_crawl.ipynb",
      "provenance": [],
      "collapsed_sections": [],
      "mount_file_id": "1odqCa9DFZBmYBJqWtXlYJCq29ajFS5i1",
      "authorship_tag": "ABX9TyM6AffbK6PR2RbZfyP7yRit",
      "include_colab_link": true
    },
    "kernelspec": {
      "name": "python3",
      "display_name": "Python 3"
    }
  },
  "cells": [
    {
      "cell_type": "markdown",
      "metadata": {
        "id": "view-in-github",
        "colab_type": "text"
      },
      "source": [
        "<a href=\"https://colab.research.google.com/github/yangju0411/opinion_poll/blob/main/nesdc_crawl.ipynb\" target=\"_parent\"><img src=\"https://colab.research.google.com/assets/colab-badge.svg\" alt=\"Open In Colab\"/></a>"
      ]
    },
    {
      "cell_type": "code",
      "metadata": {
        "id": "PbB6gCFQ_H2c"
      },
      "source": [
        "import requests\n",
        "from bs4 import BeautifulSoup as bs\n",
        "import re"
      ],
      "execution_count": 1,
      "outputs": []
    },
    {
      "cell_type": "code",
      "metadata": {
        "id": "anc4jNBu_MUj"
      },
      "source": [
        "import numpy as np\n",
        "import pandas as pd"
      ],
      "execution_count": 2,
      "outputs": []
    },
    {
      "cell_type": "code",
      "metadata": {
        "id": "PSJESXRZLMcl"
      },
      "source": [
        "import time"
      ],
      "execution_count": 3,
      "outputs": []
    },
    {
      "cell_type": "markdown",
      "metadata": {
        "id": "jfO8SUQEATV1"
      },
      "source": [
        "# 리얼미터 크롤링"
      ]
    },
    {
      "cell_type": "markdown",
      "metadata": {
        "id": "cIhUDi1fBnOB"
      },
      "source": [
        "## 사전 정보"
      ]
    },
    {
      "cell_type": "markdown",
      "metadata": {
        "id": "2eCZEaS7CSwx"
      },
      "source": [
        "조사기관이 리얼미터이고 여론조사명이 전국 정기(정례)조사 혹은 전국 정례조사인 여론조사의 응답률을 크롤링할 것이다."
      ]
    },
    {
      "cell_type": "code",
      "metadata": {
        "id": "QFkLOPNEBx6K"
      },
      "source": [
        "url = \"https://www.nesdc.go.kr/portal/bbs/B0000005/list.do?menuNo=200467\""
      ],
      "execution_count": 4,
      "outputs": []
    },
    {
      "cell_type": "markdown",
      "metadata": {
        "id": "wfhX7pM0FM_j"
      },
      "source": [
        "중앙여론조사심의위원회의 여론조사결과현황 메뉴 url이다."
      ]
    },
    {
      "cell_type": "markdown",
      "metadata": {
        "id": "SHIjGFdGF6ca"
      },
      "source": [
        "홈페이지 구조 상 조사기관명과 여론조사명을 동시에 검색하지 못 한다. 따라서 리얼미터의 여론조사를 검색한 후 그 중에서 조사명이 \"전국 정기(정례)조사\"(18년 8월 이후) 혹은 \"전국 정례조사\"(18년 8월 이전)인 것을 골라내야 한다."
      ]
    },
    {
      "cell_type": "markdown",
      "metadata": {
        "id": "ksdFgurOFYvR"
      },
      "source": [
        "우선 리얼미터로 검색했을 때 결과 페이지가 몇 개가 나타나는지를 먼저 수집해야한다."
      ]
    },
    {
      "cell_type": "markdown",
      "metadata": {
        "id": "CLLF9DmuFfa5"
      },
      "source": [
        "검색할 때 조정할 패러미터 중 필요한 것만 간추렸다."
      ]
    },
    {
      "cell_type": "markdown",
      "metadata": {
        "id": "IPkxRo3X_jMq"
      },
      "source": [
        "**searchTime** <br>\n",
        "1: 등록일 <br>\n",
        "2: 최초공표일 <br>\n",
        "3: 조사일시 <br>\n",
        "\n",
        "<br>\n",
        "sdate: 시작\n",
        "edate: 끝 <br>\n",
        "yyyy-mm-dd 형식"
      ]
    },
    {
      "cell_type": "markdown",
      "metadata": {
        "id": "mtYY1oNQ_mQC"
      },
      "source": [
        "**searchCnd** <br>\n",
        "1: 조사기관명<br>\n",
        "3: 여론조사명칭<br>"
      ]
    },
    {
      "cell_type": "markdown",
      "metadata": {
        "id": "boyzcKCi_nZL"
      },
      "source": [
        "**searchWrd** <br>\n",
        "searchCnd에서 선택한대로 검색할 검색어"
      ]
    },
    {
      "cell_type": "code",
      "metadata": {
        "id": "QhzGnvsEFqJZ"
      },
      "source": [
        "rm_params = {\"searchTime\" : 1, \"sdate\": \"2017-05-17\", \"edate\": \"\", \"searchCnd\": \"1\", \"searchWrd\": \"리얼미터\", \"pageIndex\" : \"\"}"
      ],
      "execution_count": 5,
      "outputs": []
    },
    {
      "cell_type": "markdown",
      "metadata": {
        "id": "aNlqdZ89Ht6t"
      },
      "source": [
        "https://namu.wiki/w/%EB%AC%B8%EC%9E%AC%EC%9D%B8/%EC%A7%80%EC%A7%80%EC%9C%A8 <br>\n",
        "나무위키 문재인 지지율 항목에 나와있는 국정수행평가 데이터와 연동할 것이므로 2017년 5월 3주차 즉 5월 17일부터 검색을 실시한다."
      ]
    },
    {
      "cell_type": "code",
      "metadata": {
        "id": "cGZDM3HJ_k8n"
      },
      "source": [
        "rm_url = requests.get(url, rm_params)\n",
        "rm_text = rm_url.text\n",
        "rm_soup = bs(rm_text, 'html.parser')"
      ],
      "execution_count": 6,
      "outputs": []
    },
    {
      "cell_type": "markdown",
      "metadata": {
        "id": "OwTcVuSYIV5D"
      },
      "source": [
        "beautifulsoup 객체로 저장한다."
      ]
    },
    {
      "cell_type": "code",
      "metadata": {
        "id": "osj-eGaWISdp"
      },
      "source": [
        "lastpage_reg = 'pageIndex=([0-9]*)\\'\\\" type=\\\"button\\\">맨끝</button></span>'"
      ],
      "execution_count": 7,
      "outputs": []
    },
    {
      "cell_type": "markdown",
      "metadata": {
        "id": "kIfuwjoJIbLJ"
      },
      "source": [
        "정규 표현식을 통해 마지막 페이지의 인덱스를 뽑을 것이다."
      ]
    },
    {
      "cell_type": "code",
      "metadata": {
        "colab": {
          "base_uri": "https://localhost:8080/"
        },
        "id": "A9gXkXDEIahm",
        "outputId": "72754797-0037-4e34-b258-a123f18cd01a"
      },
      "source": [
        "rm_lp = int(re.search(lastpage_reg, str(rm_soup)).group(1))\n",
        "print(rm_lp)"
      ],
      "execution_count": 8,
      "outputs": [
        {
          "output_type": "stream",
          "text": [
            "72\n"
          ],
          "name": "stdout"
        }
      ]
    },
    {
      "cell_type": "markdown",
      "metadata": {
        "id": "gJEFxon6I0ZT"
      },
      "source": [
        "총 72페이지가 존재한다."
      ]
    },
    {
      "cell_type": "markdown",
      "metadata": {
        "id": "ZWi_EUqKI9pm"
      },
      "source": [
        "## 수집"
      ]
    },
    {
      "cell_type": "code",
      "metadata": {
        "id": "EPOMq0OWI876"
      },
      "source": [
        "soup_list = []\n",
        "soup_append = soup_list.append"
      ],
      "execution_count": 9,
      "outputs": []
    },
    {
      "cell_type": "markdown",
      "metadata": {
        "id": "gEesqmqcL4ws"
      },
      "source": [
        "파이썬에서 반복문 안에서 객체의 메소드를 호출하면 느리다길래 한 번 해보았다."
      ]
    },
    {
      "cell_type": "code",
      "metadata": {
        "colab": {
          "base_uri": "https://localhost:8080/"
        },
        "id": "O28BcsbrIy7A",
        "outputId": "e714db58-2c56-4a6c-961f-1ce61386915c"
      },
      "source": [
        "%%time\n",
        "for index in range(1, rm_lp + 1):\n",
        "  rm_params['pageIndex'] = index\n",
        "  rm_url = requests.get(url, rm_params)\n",
        "  rm_text = rm_url.text\n",
        "  rm_soup = bs(rm_text, 'html.parser').select(\"body section div div div.board div.grid a\")\n",
        "  soup_append(rm_soup)"
      ],
      "execution_count": 10,
      "outputs": [
        {
          "output_type": "stream",
          "text": [
            "CPU times: user 2.68 s, sys: 112 ms, total: 2.79 s\n",
            "Wall time: 1min 32s\n"
          ],
          "name": "stdout"
        }
      ]
    },
    {
      "cell_type": "markdown",
      "metadata": {
        "id": "2hzOL1sbNlUw"
      },
      "source": [
        "파싱한 것들을 저장한다.\n",
        "필요한 a 부분만 추출한다."
      ]
    },
    {
      "cell_type": "code",
      "metadata": {
        "id": "5utz2fLkUczP"
      },
      "source": [
        "rm_df = pd.DataFrame({\"date\" : [], \"sname\" : [], \"href\" : [], \"resRate\" : []})"
      ],
      "execution_count": 11,
      "outputs": []
    },
    {
      "cell_type": "code",
      "metadata": {
        "colab": {
          "base_uri": "https://localhost:8080/",
          "height": 47
        },
        "id": "uSGImb1eVIwB",
        "outputId": "ff3380f5-f299-43f6-f2d9-2331fa85ca3d"
      },
      "source": [
        "rm_df"
      ],
      "execution_count": 12,
      "outputs": [
        {
          "output_type": "execute_result",
          "data": {
            "text/html": [
              "<div>\n",
              "<style scoped>\n",
              "    .dataframe tbody tr th:only-of-type {\n",
              "        vertical-align: middle;\n",
              "    }\n",
              "\n",
              "    .dataframe tbody tr th {\n",
              "        vertical-align: top;\n",
              "    }\n",
              "\n",
              "    .dataframe thead th {\n",
              "        text-align: right;\n",
              "    }\n",
              "</style>\n",
              "<table border=\"1\" class=\"dataframe\">\n",
              "  <thead>\n",
              "    <tr style=\"text-align: right;\">\n",
              "      <th></th>\n",
              "      <th>date</th>\n",
              "      <th>sname</th>\n",
              "      <th>href</th>\n",
              "      <th>resRate</th>\n",
              "    </tr>\n",
              "  </thead>\n",
              "  <tbody>\n",
              "  </tbody>\n",
              "</table>\n",
              "</div>"
            ],
            "text/plain": [
              "Empty DataFrame\n",
              "Columns: [date, sname, href, resRate]\n",
              "Index: []"
            ]
          },
          "metadata": {
            "tags": []
          },
          "execution_count": 12
        }
      ]
    },
    {
      "cell_type": "code",
      "metadata": {
        "id": "YWNcdJh0YXkq"
      },
      "source": [
        "resRate_reg = '<th>전체 응답률</th>\\n<td>[ \\t\\n\\r\\f\\v]*(\\d*\\.?\\d+)%'"
      ],
      "execution_count": 13,
      "outputs": []
    },
    {
      "cell_type": "markdown",
      "metadata": {
        "id": "baUXU2eKYb3Q"
      },
      "source": [
        "응답률을 뽑기 위한 정규표현식"
      ]
    },
    {
      "cell_type": "code",
      "metadata": {
        "colab": {
          "base_uri": "https://localhost:8080/"
        },
        "id": "h-3B-bZxM9bs",
        "outputId": "ab47a62d-4da6-4647-b2d7-7fd2c198c950"
      },
      "source": [
        "%%time\n",
        "for soup in soup_list:\n",
        "  for in_soup in soup:\n",
        "    if \"정례조사\" in in_soup.select(\"span\")[3].text or \"정기(정례)조사\" in in_soup.select(\"span\")[3].text:\n",
        "      if \"주간집계\" in in_soup.select(\"span\")[3].text:\n",
        "        rm_df = rm_df.append({\"date\": in_soup.select(\"span\")[4].text, \"sname\": in_soup.select(\"span\")[3].text,\n",
        "                      \"href\": in_soup[\"href\"]}, ignore_index = True)"
      ],
      "execution_count": 14,
      "outputs": [
        {
          "output_type": "stream",
          "text": [
            "CPU times: user 809 ms, sys: 27.9 ms, total: 837 ms\n",
            "Wall time: 800 ms\n"
          ],
          "name": "stdout"
        }
      ]
    },
    {
      "cell_type": "code",
      "metadata": {
        "id": "DYeKx2v7qztP"
      },
      "source": [
        "def crawlResrate(href):\n",
        "  url = \"https://www.nesdc.go.kr\"\n",
        "  text = requests.get(url + href).text\n",
        "  soup = bs(text, \"html.parser\")\n",
        "  rate = re.search(resRate_reg, str(soup)).group(1)\n",
        "  return rate"
      ],
      "execution_count": 15,
      "outputs": []
    },
    {
      "cell_type": "markdown",
      "metadata": {
        "id": "Alm2JFQXuSbw"
      },
      "source": [
        "각 문서 별 응답률을 크롤링해오는 함수"
      ]
    },
    {
      "cell_type": "code",
      "metadata": {
        "colab": {
          "base_uri": "https://localhost:8080/"
        },
        "id": "IF31ngfuY_nF",
        "outputId": "9deabe6d-2269-4d26-b487-59e5b284b5fb"
      },
      "source": [
        "%%time\n",
        "rm_df[\"resRate\"] = rm_df.apply(lambda x:crawlResrate(x[\"href\"]), axis = 1)"
      ],
      "execution_count": 16,
      "outputs": [
        {
          "output_type": "stream",
          "text": [
            "CPU times: user 14.2 s, sys: 241 ms, total: 14.5 s\n",
            "Wall time: 4min 34s\n"
          ],
          "name": "stdout"
        }
      ]
    },
    {
      "cell_type": "markdown",
      "metadata": {
        "id": "pylyp9BnuWU9"
      },
      "source": [
        "행 별로 href를 뽑아와 응답률을 구하는 코드"
      ]
    },
    {
      "cell_type": "code",
      "metadata": {
        "id": "ozK_EmnvsVbl"
      },
      "source": [
        "rm_df[\"resRate\"] = rm_df[\"resRate\"].map(float)"
      ],
      "execution_count": 17,
      "outputs": []
    },
    {
      "cell_type": "code",
      "metadata": {
        "colab": {
          "base_uri": "https://localhost:8080/",
          "height": 570
        },
        "id": "zYk_r6gnu15t",
        "outputId": "52f5db64-b132-42f5-b53c-25222b58a328"
      },
      "source": [
        "rm_df"
      ],
      "execution_count": 18,
      "outputs": [
        {
          "output_type": "execute_result",
          "data": {
            "text/html": [
              "<div>\n",
              "<style scoped>\n",
              "    .dataframe tbody tr th:only-of-type {\n",
              "        vertical-align: middle;\n",
              "    }\n",
              "\n",
              "    .dataframe tbody tr th {\n",
              "        vertical-align: top;\n",
              "    }\n",
              "\n",
              "    .dataframe thead th {\n",
              "        text-align: right;\n",
              "    }\n",
              "</style>\n",
              "<table border=\"1\" class=\"dataframe\">\n",
              "  <thead>\n",
              "    <tr style=\"text-align: right;\">\n",
              "      <th></th>\n",
              "      <th>date</th>\n",
              "      <th>sname</th>\n",
              "      <th>href</th>\n",
              "      <th>resRate</th>\n",
              "    </tr>\n",
              "  </thead>\n",
              "  <tbody>\n",
              "    <tr>\n",
              "      <th>0</th>\n",
              "      <td>2020-11-27</td>\n",
              "      <td>전국   정기(정례)조사 정당지지도 11월 4주차 주간집계</td>\n",
              "      <td>/portal/bbs/B0000005/view.do?nttId=8113&amp;menuNo...</td>\n",
              "      <td>4.4</td>\n",
              "    </tr>\n",
              "    <tr>\n",
              "      <th>1</th>\n",
              "      <td>2020-11-20</td>\n",
              "      <td>전국   정기(정례)조사 정당지지도 11월 3주차 주간집계</td>\n",
              "      <td>/portal/bbs/B0000005/view.do?nttId=8107&amp;menuNo...</td>\n",
              "      <td>3.7</td>\n",
              "    </tr>\n",
              "    <tr>\n",
              "      <th>2</th>\n",
              "      <td>2020-11-13</td>\n",
              "      <td>전국   정기(정례)조사 정당지지도 11월 2주차 주간집계</td>\n",
              "      <td>/portal/bbs/B0000005/view.do?nttId=8092&amp;menuNo...</td>\n",
              "      <td>4.8</td>\n",
              "    </tr>\n",
              "    <tr>\n",
              "      <th>3</th>\n",
              "      <td>2020-11-06</td>\n",
              "      <td>전국   정기(정례)조사 정당지지도 11월 1주차 주간집계</td>\n",
              "      <td>/portal/bbs/B0000005/view.do?nttId=8086&amp;menuNo...</td>\n",
              "      <td>4.5</td>\n",
              "    </tr>\n",
              "    <tr>\n",
              "      <th>4</th>\n",
              "      <td>2020-10-30</td>\n",
              "      <td>전국   정기(정례)조사 정당지지도 10월 4주차 주간집계</td>\n",
              "      <td>/portal/bbs/B0000005/view.do?nttId=8073&amp;menuNo...</td>\n",
              "      <td>4.3</td>\n",
              "    </tr>\n",
              "    <tr>\n",
              "      <th>...</th>\n",
              "      <td>...</td>\n",
              "      <td>...</td>\n",
              "      <td>...</td>\n",
              "      <td>...</td>\n",
              "    </tr>\n",
              "    <tr>\n",
              "      <th>182</th>\n",
              "      <td>2017-06-16</td>\n",
              "      <td>전국  정례조사 6월 2주 주간집계</td>\n",
              "      <td>/portal/bbs/B0000005/view.do?nttId=3826&amp;menuNo...</td>\n",
              "      <td>5.4</td>\n",
              "    </tr>\n",
              "    <tr>\n",
              "      <th>183</th>\n",
              "      <td>2017-06-09</td>\n",
              "      <td>전국  정례조사 6월 1주 주간집계</td>\n",
              "      <td>/portal/bbs/B0000005/view.do?nttId=3819&amp;menuNo...</td>\n",
              "      <td>5.3</td>\n",
              "    </tr>\n",
              "    <tr>\n",
              "      <th>184</th>\n",
              "      <td>2017-06-02</td>\n",
              "      <td>전국  정례조사 5월 5주 주간집계</td>\n",
              "      <td>/portal/bbs/B0000005/view.do?nttId=3813&amp;menuNo...</td>\n",
              "      <td>6.0</td>\n",
              "    </tr>\n",
              "    <tr>\n",
              "      <th>185</th>\n",
              "      <td>2017-05-26</td>\n",
              "      <td>전국  정례조사 5월 4주 주간집계</td>\n",
              "      <td>/portal/bbs/B0000005/view.do?nttId=3805&amp;menuNo...</td>\n",
              "      <td>6.8</td>\n",
              "    </tr>\n",
              "    <tr>\n",
              "      <th>186</th>\n",
              "      <td>2017-05-19</td>\n",
              "      <td>전국  정례조사 5월 3주 주간집계</td>\n",
              "      <td>/portal/bbs/B0000005/view.do?nttId=3794&amp;menuNo...</td>\n",
              "      <td>7.5</td>\n",
              "    </tr>\n",
              "  </tbody>\n",
              "</table>\n",
              "<p>187 rows × 4 columns</p>\n",
              "</div>"
            ],
            "text/plain": [
              "           date  ... resRate\n",
              "0    2020-11-27  ...     4.4\n",
              "1    2020-11-20  ...     3.7\n",
              "2    2020-11-13  ...     4.8\n",
              "3    2020-11-06  ...     4.5\n",
              "4    2020-10-30  ...     4.3\n",
              "..          ...  ...     ...\n",
              "182  2017-06-16  ...     5.4\n",
              "183  2017-06-09  ...     5.3\n",
              "184  2017-06-02  ...     6.0\n",
              "185  2017-05-26  ...     6.8\n",
              "186  2017-05-19  ...     7.5\n",
              "\n",
              "[187 rows x 4 columns]"
            ]
          },
          "metadata": {
            "tags": []
          },
          "execution_count": 18
        }
      ]
    },
    {
      "cell_type": "code",
      "metadata": {
        "colab": {
          "base_uri": "https://localhost:8080/"
        },
        "id": "6QZiR7Spupdl",
        "outputId": "51d2e934-fa75-4eaf-cc65-8edc39d77f2b"
      },
      "source": [
        "rm_df[\"resRate\"].isnull().sum()"
      ],
      "execution_count": 19,
      "outputs": [
        {
          "output_type": "execute_result",
          "data": {
            "text/plain": [
              "0"
            ]
          },
          "metadata": {
            "tags": []
          },
          "execution_count": 19
        }
      ]
    },
    {
      "cell_type": "markdown",
      "metadata": {
        "id": "NiySV2BIuw7U"
      },
      "source": [
        "다행히 결측값 없이 응답률이 잘 크롤링 되었다."
      ]
    },
    {
      "cell_type": "code",
      "metadata": {
        "colab": {
          "base_uri": "https://localhost:8080/"
        },
        "id": "5UA3-pnPtV-R",
        "outputId": "0ffed89f-632f-47b6-c184-945dad03361a"
      },
      "source": [
        "rm_df[\"resRate\"].mean()"
      ],
      "execution_count": 20,
      "outputs": [
        {
          "output_type": "execute_result",
          "data": {
            "text/plain": [
              "5.53636363636364"
            ]
          },
          "metadata": {
            "tags": []
          },
          "execution_count": 20
        }
      ]
    },
    {
      "cell_type": "code",
      "metadata": {
        "colab": {
          "base_uri": "https://localhost:8080/"
        },
        "id": "cGpuk6Hjtt_8",
        "outputId": "39eb023e-a5c2-4c03-b823-0a35bfa13bd6"
      },
      "source": [
        "rm_df.shape"
      ],
      "execution_count": 21,
      "outputs": [
        {
          "output_type": "execute_result",
          "data": {
            "text/plain": [
              "(187, 4)"
            ]
          },
          "metadata": {
            "tags": []
          },
          "execution_count": 21
        }
      ]
    },
    {
      "cell_type": "code",
      "metadata": {
        "id": "yX1T-fRju-8x"
      },
      "source": [
        "rm_df.to_csv(\"/content/drive/MyDrive/여론조사/리얼미터_응답률.csv\")"
      ],
      "execution_count": 23,
      "outputs": []
    }
  ]
}